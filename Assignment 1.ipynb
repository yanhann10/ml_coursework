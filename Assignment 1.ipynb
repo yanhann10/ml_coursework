{
 "cells": [
  {
   "cell_type": "markdown",
   "metadata": {},
   "source": [
    "# Assignment 1 - Probability, Linear Algebra, Programming, and Git\n",
    "\n",
    "## *Hannah Yan*\n",
    "Netid:  *hy151*"
   ]
  },
  {
   "cell_type": "markdown",
   "metadata": {},
   "source": [
    "# Probability and Statistics Theory"
   ]
  },
  {
   "cell_type": "markdown",
   "metadata": {},
   "source": [
    "## 1\n",
    "Let $f(x) = \\begin{cases}\n",
    "                0           & x < 0  \\\\\n",
    "                \\alpha x^2  & 0 \\leq x \\leq 2 \\\\\n",
    "                0           & 2 < x\n",
    "            \\end{cases}$\n",
    "            \n",
    "For what value of $\\alpha$ is $f(x)$ a valid probability density function?\n",
    "\n",
    "*Note: for all assignments, write out all equations and math for all assignments using markdown and [LaTeX](https://tobi.oetiker.ch/lshort/lshort.pdf) and show all work*"
   ]
  },
  {
   "cell_type": "markdown",
   "metadata": {},
   "source": [
    "**ANSWER**\n",
    "\n",
    "a = 0.375 would make $f(x)$ intergrate to 1 under the area of [0,2)"
   ]
  },
  {
   "cell_type": "code",
   "execution_count": 1,
   "metadata": {
    "collapsed": false
   },
   "outputs": [
    {
     "data": {
      "text/plain": [
       "0.37499999999999994"
      ]
     },
     "execution_count": 1,
     "metadata": {},
     "output_type": "execute_result"
    }
   ],
   "source": [
    "from scipy.integrate import quad\n",
    "def f(x):\n",
    "    return x**2\n",
    "\n",
    "res, err = quad(f, 0, 2)\n",
    "a=1/res\n",
    "a"
   ]
  },
  {
   "cell_type": "markdown",
   "metadata": {},
   "source": [
    "## 2\n",
    "What is the cumulative distribution function (CDF) that corresponds to the following probability distribution function? Please state the value of the CDF for all possible values of $x$.\n",
    "\n",
    "$f(x) = \\begin{cases}\n",
    "    \\frac{1}{3} & 0 < x < 3 \\\\\n",
    "    0           & \\text{otherwise}\n",
    "    \\end{cases}$"
   ]
  },
  {
   "cell_type": "markdown",
   "metadata": {},
   "source": [
    "**ANSWER**\n",
    "\n",
    "$f(x) = \\begin{cases}\n",
    "    0   &x<=0 \\\\\n",
    "    \\frac{1}{3}  x & 0 < x < 3 \\\\\n",
    "    1 &x>=3\n",
    "    \\end{cases}$\n"
   ]
  },
  {
   "cell_type": "markdown",
   "metadata": {},
   "source": [
    "## 3\n",
    "For the probability distribution function for the random variable $X$,\n",
    "\n",
    "$f(x) = \\begin{cases}\n",
    "    \\frac{1}{3} & 0 < x < 3 \\\\\n",
    "    0           & \\text{otherwise}\n",
    "    \\end{cases}$\n",
    "    \n",
    "what is the (a) expected value and (b) variance of $X$. *Show all work*."
   ]
  },
  {
   "cell_type": "markdown",
   "metadata": {},
   "source": [
    "**ANSWER**\n",
    "\n",
    "(a) Expected value:\n",
    "1.5\n",
    "\n",
    "\n",
    "(b) Variance:\n",
    "0.75\n"
   ]
  },
  {
   "cell_type": "markdown",
   "metadata": {},
   "source": [
    "$E(x) = \\int_{-\\infty}^{-\\infty} x \\cdot f(x)dx $"
   ]
  },
  {
   "cell_type": "code",
   "execution_count": 2,
   "metadata": {},
   "outputs": [
    {
     "data": {
      "text/plain": [
       "1.5000000000000002"
      ]
     },
     "execution_count": 2,
     "metadata": {},
     "output_type": "execute_result"
    }
   ],
   "source": [
    "import numpy as np\n",
    "def f(x):\n",
    "    if x>0 and x<3:\n",
    "        return 1/3*x\n",
    "    else:\n",
    "        return 0\n",
    "res, err = quad(f, -np.inf, np.inf)\n",
    "res"
   ]
  },
  {
   "cell_type": "markdown",
   "metadata": {},
   "source": [
    "$Var(X)=E(X^2)−E(X)^2$"
   ]
  },
  {
   "cell_type": "code",
   "execution_count": 3,
   "metadata": {},
   "outputs": [
    {
     "data": {
      "text/plain": [
       "3.0"
      ]
     },
     "execution_count": 3,
     "metadata": {},
     "output_type": "execute_result"
    }
   ],
   "source": [
    "def f1(x):\n",
    "    if x>0 and x<3:\n",
    "        return (1/3*x**2)\n",
    "    else:\n",
    "        return 0\n",
    "res1, _ = quad(f1, -np.inf, np.inf)\n",
    "res1"
   ]
  },
  {
   "cell_type": "code",
   "execution_count": 4,
   "metadata": {},
   "outputs": [
    {
     "data": {
      "text/plain": [
       "0.75"
      ]
     },
     "execution_count": 4,
     "metadata": {},
     "output_type": "execute_result"
    }
   ],
   "source": [
    "3.0-1.5**2"
   ]
  },
  {
   "cell_type": "markdown",
   "metadata": {},
   "source": [
    "## 4\n",
    "Consider the following table of data that provides the values of a discrete data vector $\\mathbf{x}$ of samples from the random variable $X$, where each entry in $\\mathbf{x}$ is given as $x_i$.\n",
    "\n",
    "*Table 1. Dataset N=5 observations*\n",
    "\n",
    "|        | $x_0$ | $x_1$ | $x_2$ | $x_3$ | $x_4$ |\n",
    "|------  |-------|-------|-------|-------|-------|\n",
    "|$\\textbf{x}$| 2     | 3     | 10    | -1    | -1    |\n",
    "\n",
    "What is the (a) mean, (b) variance, and the  of the data? \n",
    "\n",
    "*Show all work. Your answer should include the definition of mean, median, and variance in the context of discrete data.*"
   ]
  },
  {
   "cell_type": "markdown",
   "metadata": {},
   "source": [
    "**ANSWER**\n",
    "\n",
    "(a) Mean: 2.6\n",
    "Mean is average of a data vector  \n",
    "(b) Variance: 16.24  \n",
    "Variance is the average squared different of elements of a data vector from its mean  \n",
    "(c) Median 2.0  \n",
    "Median is the value or quantity lying at the midpoint of a frequency distribution of observed values or quantities, or the average of the two numbers in the middle if there are even counts, such that there is an equal probability of falling above or below the number in the sorted data  "
   ]
  },
  {
   "cell_type": "code",
   "execution_count": 5,
   "metadata": {
    "collapsed": false
   },
   "outputs": [
    {
     "name": "stdout",
     "output_type": "stream",
     "text": [
      "mean 2.6\n",
      "median 2.0\n",
      "variance 16.24\n"
     ]
    }
   ],
   "source": [
    "import numpy as np\n",
    "import pandas as pd\n",
    "x=[2,3,10,-1,-1]\n",
    "#average of the discrete data vector: sum/count\n",
    "print('mean',np.mean(x))\n",
    "#the number in the middle of sorted data vector, or the avg of the two numbers in the middle if even counts\n",
    "print('median',np.median(x))\n",
    "#expectation of the squared deviation of a random variable from its mean\n",
    "print('variance',np.var(x))"
   ]
  },
  {
   "cell_type": "markdown",
   "metadata": {},
   "source": [
    "## 5\n",
    "Review of counting from probability theory. \n",
    "\n",
    "(a) How many different 7-place license plates are possible if the first 3 places only contain letters and the last 4 only contain numbers?\n",
    "\n",
    "(b) How many different batting orders are possible for a baseball team with 9 players?\n",
    "\n",
    "(c) How many batting orders of 5 players are possible for a team with 9 players total?\n",
    "\n",
    "(d) Let's assume this class has 26 students and we want to form project teams. How many unique teams of 3 are possible?\n",
    "\n",
    "*Hint: For each problem, determine if order matters, and if it should be calculated with or without replacement.*"
   ]
  },
  {
   "cell_type": "markdown",
   "metadata": {},
   "source": [
    "**ANSWER**\n",
    "\n",
    "(a)"
   ]
  },
  {
   "cell_type": "code",
   "execution_count": 6,
   "metadata": {
    "collapsed": false
   },
   "outputs": [
    {
     "data": {
      "text/plain": [
       "175760000"
      ]
     },
     "execution_count": 6,
     "metadata": {},
     "output_type": "execute_result"
    }
   ],
   "source": [
    "import string\n",
    "from itertools import combinations, permutations\n",
    "l=string.ascii_uppercase\n",
    "n=string.digits\n",
    "#select 3 from letters and 4 from numbers\n",
    "26**3*10**4"
   ]
  },
  {
   "cell_type": "markdown",
   "metadata": {},
   "source": [
    "(b)"
   ]
  },
  {
   "cell_type": "code",
   "execution_count": 7,
   "metadata": {
    "collapsed": false
   },
   "outputs": [
    {
     "data": {
      "text/plain": [
       "362880"
      ]
     },
     "execution_count": 7,
     "metadata": {},
     "output_type": "execute_result"
    }
   ],
   "source": [
    "len(list(permutations(range(9),9)))"
   ]
  },
  {
   "cell_type": "markdown",
   "metadata": {},
   "source": [
    "(c)"
   ]
  },
  {
   "cell_type": "code",
   "execution_count": 8,
   "metadata": {
    "collapsed": false
   },
   "outputs": [
    {
     "data": {
      "text/plain": [
       "15120"
      ]
     },
     "execution_count": 8,
     "metadata": {},
     "output_type": "execute_result"
    }
   ],
   "source": [
    "len(list(permutations(range(9),5)))"
   ]
  },
  {
   "cell_type": "markdown",
   "metadata": {},
   "source": [
    "(d)"
   ]
  },
  {
   "cell_type": "code",
   "execution_count": 9,
   "metadata": {
    "collapsed": false
   },
   "outputs": [
    {
     "data": {
      "text/plain": [
       "2600"
      ]
     },
     "execution_count": 9,
     "metadata": {},
     "output_type": "execute_result"
    }
   ],
   "source": [
    "len(list(combinations(range(26), 3))) "
   ]
  },
  {
   "cell_type": "markdown",
   "metadata": {},
   "source": [
    "# Linear Algebra"
   ]
  },
  {
   "cell_type": "markdown",
   "metadata": {},
   "source": [
    "## 6\n",
    "**Matrix manipulations and multiplication**. Machine learning involves working with many matrices, so this exercise will provide you with the opportunity to practice those skills.\n",
    "\n",
    "Let\n",
    "$\\mathbf{A} =  \\begin{bmatrix}\n",
    "1 & 2 & 3 \\\\\n",
    "2 & 4 & 5 \\\\\n",
    "3 & 5 & 6 \n",
    "\\end{bmatrix}$, $\\mathbf{b} =  \\begin{bmatrix}\n",
    "-1  \\\\\n",
    "3  \\\\\n",
    "8  \n",
    "\\end{bmatrix}$, $\\mathbf{c} =  \\begin{bmatrix}\n",
    "4  \\\\\n",
    "-3  \\\\\n",
    "6  \n",
    "\\end{bmatrix}$, and $\\mathbf{I} =  \\begin{bmatrix}\n",
    "1 & 0 & 0 \\\\\n",
    "0 & 1 & 0 \\\\\n",
    "0 & 0 & 1 \n",
    "\\end{bmatrix}$\n",
    "\n",
    "Compute the following or indicate that it cannot be computed:\n",
    "\n",
    "1. $\\mathbf{A}\\mathbf{A}$\n",
    "2. $\\mathbf{A}\\mathbf{A}^T$\n",
    "3. $\\mathbf{A}\\mathbf{b}$\n",
    "4. $\\mathbf{A}\\mathbf{b}^T$\n",
    "5. $\\mathbf{b}\\mathbf{A}$\n",
    "6. $\\mathbf{b}^T\\mathbf{A}$\n",
    "7. $\\mathbf{b}\\mathbf{b}$\n",
    "8. $\\mathbf{b}^T\\mathbf{b}$\n",
    "9. $\\mathbf{b}\\mathbf{b}^T$\n",
    "10. $\\mathbf{b} + \\mathbf{c}^T$\n",
    "11. $\\mathbf{b}^T\\mathbf{b}^T$\n",
    "12. $\\mathbf{A}^{-1}\\mathbf{b}$\n",
    "13. $\\mathbf{A}\\circ\\mathbf{A}$\n",
    "14. $\\mathbf{b}\\circ\\mathbf{c}$\n",
    "\n",
    "*Note: The element-wise (or Hadamard) product is the product of each element in one matrix with the corresponding element in another matrix, and is represented by the symbol \"$\\circ$\".*"
   ]
  },
  {
   "cell_type": "markdown",
   "metadata": {},
   "source": [
    "**ANSWER**\n",
    "\n",
    "1. $\\mathbf{A}\\mathbf{A} = \\begin{bmatrix}\n",
    "14 & 25 & 31 \\\\\n",
    "25 & 45 &56\\\\\n",
    "31 &56 &70\n",
    "\\end{bmatrix}$\n",
    "2. $\\mathbf{A}\\mathbf{A}^T = \\begin{bmatrix}\n",
    "14 & 25 & 31 \\\\\n",
    "25 & 45 &56\\\\\n",
    "31 &56 &70\n",
    "\\end{bmatrix}$\n",
    "3. $\\mathbf{A}\\mathbf{b} = \\begin{bmatrix}\n",
    "29 \\\\\n",
    "50 \\\\\n",
    "60\n",
    "\\end{bmatrix}$\n",
    "4. $\\mathbf{A}\\mathbf{b}^T$ cannot be computed\n",
    "5. $\\mathbf{b}\\mathbf{A}$ cannot be computed\n",
    "6. $\\mathbf{b}^T\\mathbf{A} = \\begin{bmatrix}\n",
    "29 & 50 & 60\n",
    "\\end{bmatrix}$\n",
    "7. $\\mathbf{b}\\mathbf{b}$ cannot be computed \n",
    "8. $\\mathbf{b}^T\\mathbf{b} =\\begin{bmatrix}\n",
    "74\n",
    "\\end{bmatrix}$\n",
    "9. $\\mathbf{b}\\mathbf{b}^T = \\begin{bmatrix}\n",
    "1 & -3 & -8\\\\\n",
    "-3 & 9 & 24\\\\\n",
    "-8 & 24 & 64\n",
    "\\end{bmatrix}$\n",
    "10. $\\mathbf{b} + \\mathbf{c}^T$ cannot be computed\n",
    "11. $\\mathbf{b}^T\\mathbf{b}^T$ cannot be computed\n",
    "12. $\\mathbf{A}^{-1}\\mathbf{b}= \\begin{bmatrix}\n",
    "6\\\\\n",
    "4\\\\\n",
    "-5\n",
    "\\end{bmatrix}$\n",
    "13. $\\mathbf{A}\\circ\\mathbf{A} =\\begin{bmatrix}\n",
    "1 & 4 & 9\\\\\n",
    "4 & 16 & 25\\\\\n",
    "9 & 25 & 36\n",
    "\\end{bmatrix}$\n",
    "14. $\\mathbf{b}\\circ\\mathbf{c} =\\begin{bmatrix}\n",
    "-4\\\\\n",
    "-9\\\\\n",
    "48\n",
    "\\end{bmatrix}$\n"
   ]
  },
  {
   "cell_type": "code",
   "execution_count": 10,
   "metadata": {
    "collapsed": false
   },
   "outputs": [],
   "source": [
    "import numpy as np\n",
    "from numpy.linalg import inv\n",
    "\n",
    "A=np.array([[1, 2, 3], [2,4,5], [3,5,6]])\n",
    "B=np.array([[-1],[3],[8]])\n",
    "C=np.array([[4],[-3],[6]])\n",
    "I=np.identity(3)\n",
    "\n",
    "def print_latex(A):\n",
    "    for i in range(A.shape[0]-1):\n",
    "        print(' & '.join(map(str,A[i])), end='\\\\\\\\\\n')\n",
    "    print(' & '.join(map(str,A[-1])))\n",
    "    \n",
    "def tryprint(fun, *args):\n",
    "    try:\n",
    "        retVal = fun(*args)\n",
    "        retLax = print_latex(retVal)\n",
    "    except ValueError:\n",
    "        return 'ValueError'\n",
    "    return retLax, retVal"
   ]
  },
  {
   "cell_type": "code",
   "execution_count": 11,
   "metadata": {
    "collapsed": false
   },
   "outputs": [
    {
     "name": "stdout",
     "output_type": "stream",
     "text": [
      "1\n",
      "14 & 25 & 31\\\\\n",
      "25 & 45 & 56\\\\\n",
      "31 & 56 & 70\n",
      "(None, array([[14, 25, 31],\n",
      "       [25, 45, 56],\n",
      "       [31, 56, 70]]))\n",
      "2\n",
      "14 & 25 & 31\\\\\n",
      "25 & 45 & 56\\\\\n",
      "31 & 56 & 70\n",
      "(None, array([[14, 25, 31],\n",
      "       [25, 45, 56],\n",
      "       [31, 56, 70]]))\n",
      "3\n",
      "29\\\\\n",
      "50\\\\\n",
      "60\n",
      "(None, array([[29],\n",
      "       [50],\n",
      "       [60]]))\n",
      "4\n",
      "ValueError\n",
      "5\n",
      "ValueError\n",
      "6\n",
      "29 & 50 & 60\n",
      "(None, array([[29, 50, 60]]))\n",
      "7\n",
      "ValueError\n",
      "8\n",
      "74\n",
      "(None, array([[74]]))\n",
      "9\n",
      "1 & -3 & -8\\\\\n",
      "-3 & 9 & 24\\\\\n",
      "-8 & 24 & 64\n",
      "(None, array([[ 1, -3, -8],\n",
      "       [-3,  9, 24],\n",
      "       [-8, 24, 64]]))\n",
      "10\n",
      "11\n",
      "ValueError\n",
      "12\n",
      "6.0\\\\\n",
      "4.0\\\\\n",
      "-5.0\n",
      "(None, array([[ 6.],\n",
      "       [ 4.],\n",
      "       [-5.]]))\n",
      "13\n",
      "1 & 4 & 9\\\\\n",
      "4 & 16 & 25\\\\\n",
      "9 & 25 & 36\n",
      "(None, array([[ 1,  4,  9],\n",
      "       [ 4, 16, 25],\n",
      "       [ 9, 25, 36]]))\n",
      "14\n",
      "-4\\\\\n",
      "-9\\\\\n",
      "48\n",
      "(None, array([[-4],\n",
      "       [-9],\n",
      "       [48]]))\n"
     ]
    }
   ],
   "source": [
    "print('1')\n",
    "print(tryprint(np.dot, A,A))\n",
    "print('2')\n",
    "print(tryprint(np.dot, A,A.T))\n",
    "print('3')\n",
    "print(tryprint(np.dot, A,B))\n",
    "print('4')\n",
    "print(tryprint(np.dot, A,B.T))\n",
    "print('5')\n",
    "print(tryprint(np.dot, B,A))\n",
    "print('6')\n",
    "print(tryprint(np.dot, B.T,A))\n",
    "print('7')\n",
    "print(tryprint(np.dot, B,B))\n",
    "print('8')\n",
    "print(tryprint(np.dot, B.T,B))\n",
    "print('9')\n",
    "print(tryprint(np.dot, B,B.T))\n",
    "print('10')\n",
    "#here np.add will broadcast but B is 3x1 while c.T is 1X3, they shouldn't add.\n",
    "print('11')\n",
    "print(tryprint(np.dot, B.T,B.T))\n",
    "print('12')\n",
    "print(tryprint(np.dot, inv(A),B))\n",
    "print('13')\n",
    "print(tryprint(np.multiply, A,A))\n",
    "print('14')\n",
    "print(tryprint(np.multiply, B,C))"
   ]
  },
  {
   "cell_type": "markdown",
   "metadata": {},
   "source": [
    "## 6\n",
    "**Eigenvectors and eigenvalues**. Eigenvectors and eigenvalues are useful for some machine learning algorithms, but the concepts take time to solidly grasp. For an intuitive review of these concepts, explore this [interactive website at Setosa.io](http://setosa.io/ev/eigenvectors-and-eigenvalues/). Also, the series of linear algebra videos by Grant Sanderson of 3Brown1Blue are excellent and can be viewed on youtube [here](https://www.youtube.com/playlist?list=PLZHQObOWTQDPD3MizzM2xVFitgF8hE_ab).\n",
    "\n",
    "1. Calculate the eigenvalues and corresponding eigenvectors of matrix $\\mathbf{A}$ above, from the last question.\n",
    "2. Choose one of the eigenvector/eigenvalue pairs, $\\mathbf{v}$ and $\\lambda$, and show that $\\mathbf{A} \\mathbf{v} = \\lambda \\mathbf{v}$. Also show that this relationship extends to higher orders: $\\mathbf{A} \\mathbf{A} \\mathbf{v} = \\lambda^2 \\mathbf{v}$\n",
    "3. Show that the eigenvectors are orthogonal to one another (e.g. their inner product is zero). This is true for real, symmetric matrices."
   ]
  },
  {
   "cell_type": "markdown",
   "metadata": {},
   "source": [
    "**ANSWER**\n",
    "\n",
    "1."
   ]
  },
  {
   "cell_type": "code",
   "execution_count": 12,
   "metadata": {
    "collapsed": false
   },
   "outputs": [
    {
     "name": "stdout",
     "output_type": "stream",
     "text": [
      "eigenvalues [ 11.34481428+0.j  -0.51572947+0.j   0.17091519+0.j]\n",
      "eigenvectors [[-0.32798528 -0.73697623  0.59100905]\n",
      " [-0.59100905 -0.32798528 -0.73697623]\n",
      " [-0.73697623  0.59100905  0.32798528]]\n"
     ]
    }
   ],
   "source": [
    "from scipy import linalg as la\n",
    "vals, vecs = la.eig(A)\n",
    "print('eigenvalues',vals)\n",
    "print('eigenvectors',vecs)"
   ]
  },
  {
   "cell_type": "markdown",
   "metadata": {},
   "source": [
    "2."
   ]
  },
  {
   "cell_type": "code",
   "execution_count": 13,
   "metadata": {
    "collapsed": false
   },
   "outputs": [
    {
     "data": {
      "text/plain": [
       "array([-3.72093206, -6.70488789, -8.36085845])"
      ]
     },
     "execution_count": 13,
     "metadata": {},
     "output_type": "execute_result"
    }
   ],
   "source": [
    "A@vecs[:,0]"
   ]
  },
  {
   "cell_type": "code",
   "execution_count": 14,
   "metadata": {
    "collapsed": false
   },
   "outputs": [
    {
     "data": {
      "text/plain": [
       "array([-3.72093206+0.j, -6.70488789+0.j, -8.36085845+0.j])"
      ]
     },
     "execution_count": 14,
     "metadata": {},
     "output_type": "execute_result"
    }
   ],
   "source": [
    "vals[0]*vecs[:,0]"
   ]
  },
  {
   "cell_type": "code",
   "execution_count": 15,
   "metadata": {
    "collapsed": false
   },
   "outputs": [
    {
     "data": {
      "text/plain": [
       "array([-42.2132832 , -76.06570795, -94.85238636])"
      ]
     },
     "execution_count": 15,
     "metadata": {},
     "output_type": "execute_result"
    }
   ],
   "source": [
    "A@A@vecs[:,0]"
   ]
  },
  {
   "cell_type": "code",
   "execution_count": 16,
   "metadata": {
    "collapsed": false
   },
   "outputs": [
    {
     "data": {
      "text/plain": [
       "array([-42.21328320+0.j, -76.06570795+0.j, -94.85238636+0.j])"
      ]
     },
     "execution_count": 16,
     "metadata": {},
     "output_type": "execute_result"
    }
   ],
   "source": [
    "vals[0]*vals[0]*vecs[:,0]"
   ]
  },
  {
   "cell_type": "markdown",
   "metadata": {},
   "source": [
    "We observed $\\mathbf{A} \\mathbf{v} = \\lambda \\mathbf{v}$ and $\\mathbf{A} \\mathbf{A} \\mathbf{v} = \\lambda^2 \\mathbf{v}$"
   ]
  },
  {
   "cell_type": "markdown",
   "metadata": {},
   "source": [
    "3"
   ]
  },
  {
   "cell_type": "code",
   "execution_count": 17,
   "metadata": {
    "collapsed": false
   },
   "outputs": [
    {
     "name": "stdout",
     "output_type": "stream",
     "text": [
      "-0.0\n",
      "-0.0\n",
      "0.0\n"
     ]
    }
   ],
   "source": [
    "for i,j in list(combinations(range(3),2)):\n",
    "    print(round(np.inner(vecs[i],vecs[j])))"
   ]
  },
  {
   "cell_type": "markdown",
   "metadata": {},
   "source": [
    "We observed all eigenvectors are orthogonal."
   ]
  },
  {
   "cell_type": "markdown",
   "metadata": {},
   "source": [
    "# Numerical Programming"
   ]
  },
  {
   "cell_type": "markdown",
   "metadata": {},
   "source": [
    "## 7\n",
    "Speed comparison between vectorized and non-vectorized code. Begin by creating an array of 10 million random numbers using the numpy random.randn module. Compute the sum of the squares first in a for loop, then using Numpy's `dot` module. Time how long it takes to compute each and report the results and report the output. How many times faster is the vectorized code than the for loop approach?\n",
    "\n",
    "*Note: all code should be well commented, properly formatted, and your answers should be output using the `print()` function as follows (where the # represents your answers, to a reasonable precision):\n",
    "\n",
    "`Time [sec] (non-vectorized): ######`\n",
    "\n",
    "`Time [sec] (vectorized):     ######`\n",
    "\n",
    "`The vectorized code is ##### times faster than the vectorized code`"
   ]
  },
  {
   "cell_type": "markdown",
   "metadata": {},
   "source": [
    "**ANSWER**"
   ]
  },
  {
   "cell_type": "code",
   "execution_count": 18,
   "metadata": {
    "collapsed": false
   },
   "outputs": [
    {
     "name": "stdout",
     "output_type": "stream",
     "text": [
      "Time [sec] (non-vectorized):  5.775462865829468\n",
      "Time [sec] (vectorized):  0.014805078506469727\n",
      "The vectorized code is 390 times faster than the vectorized code\n"
     ]
    }
   ],
   "source": [
    "import numpy as np\n",
    "import time\n",
    "import timeit\n",
    "# Generate the random samples\n",
    "sample=np.random.randn(10000000)\n",
    "\n",
    "#start timer\n",
    "start_time = time.time()\n",
    "\n",
    "# Compute the sum of squares the non-vectorized way (using a for loop)\n",
    "sum=0\n",
    "for i in range(len(sample)):\n",
    "    sum+=sample[i]*sample[i]\n",
    "#print(sum)\n",
    "\n",
    "#calc time duration\n",
    "time_unvectorized=time.time()-start_time\n",
    "print('Time [sec] (non-vectorized): ',time_unvectorized)\n",
    "\n",
    "# Compute the sum of squares the vectorized way (using numpy)\n",
    "start_time = time.time()\n",
    "sample.dot(sample)\n",
    "time_vectorized=time.time()-start_time\n",
    "\n",
    "# Print the results\n",
    "print('Time [sec] (vectorized): ',time_vectorized)\n",
    "x=round(time_unvectorized/time_vectorized,0)\n",
    "print('The vectorized code is %.0f times faster than the vectorized code' %(x))"
   ]
  },
  {
   "cell_type": "markdown",
   "metadata": {},
   "source": [
    "## 8\n",
    "One popular Agile development framework is Scrum (a paradigm recommended for data science projects). It emphasizes the continual evolution of code for projects, becoming progressively better, but starting with a quickly developed minimum viable product. This often means that code written early on is not optimized, and that's a good thing - it's best to get it to work first before optimizing. Imagine that you wrote the following code during a sprint towards getting an end-to-end system working. Vectorize the following code and show the difference in speed between the current implementation and a vectorized version.\n",
    "\n",
    "The function below computes the function $f(x,y) = x^2 - 2 y^2$ and determines whether this quantity is above or below a given threshold, `thresh=0`. This is done for $x,y \\in \\{-4,4\\}$, over a 2,000-by-2,000 grid covering that domain.\n",
    "\n",
    "(a) Vectorize this code and demonstrate (as in the last exercise) the speed increase through vectorization and (b) plot the resulting data - both the function $f(x,y)$ and the thresholded output - using [`imshow`](https://matplotlib.org/api/_as_gen/matplotlib.pyplot.imshow.html?highlight=matplotlib%20pyplot%20imshow#matplotlib.pyplot.imshow) from `matplotlib`.\n",
    "\n",
    "*Hint: look at the `numpy` [`meshgrid`](https://docs.scipy.org/doc/numpy-1.13.0/reference/generated/numpy.meshgrid.html) documentation*"
   ]
  },
  {
   "cell_type": "markdown",
   "metadata": {},
   "source": [
    "**ANSWER**\n",
    "\n",
    "(a)"
   ]
  },
  {
   "cell_type": "code",
   "execution_count": 19,
   "metadata": {
    "collapsed": false
   },
   "outputs": [],
   "source": [
    "import numpy as np\n",
    "import time\n",
    "import matplotlib.pyplot as plt\n",
    "\n",
    "# Initialize variables for this exerise\n",
    "xvalue=np.linspace(-4,4,2000)\n",
    "yvalue=np.linspace(-4,4,2000)\n",
    "thresh=0\n",
    "\n",
    "# Nonvectorized implementation\n",
    "start_time = time.time()\n",
    "res=np.empty([2000,2000]).astype(int)\n",
    "compare=np.empty([2000,2000]).astype(int)\n",
    "\n",
    "for i in range(len(xvalue)):\n",
    "    for j in range(len(yvalue)):\n",
    "        res[j,i]=xvalue[i]**2 - 2*yvalue[j]**2\n",
    "        compare[j,i]=res[i,j]>thresh\n",
    "        \n",
    "time_unvectorized=time.time()-start_time"
   ]
  },
  {
   "cell_type": "code",
   "execution_count": 20,
   "metadata": {},
   "outputs": [
    {
     "name": "stdout",
     "output_type": "stream",
     "text": [
      "Time [sec] (unvectorized):  9.134609937667847\n",
      "Time [sec] (vectorized):  0.10059118270874023\n",
      "The vectorized code is 91 times faster than the vectorized code\n"
     ]
    }
   ],
   "source": [
    "# Vectorized implementation\n",
    "start_time = time.time()\n",
    "X,Y = np.meshgrid(xvalue,yvalue)\n",
    "res = X**2 - 2 * Y**2\n",
    "compare=res>thresh\n",
    "time_vectorized=time.time()-start_time\n",
    "\n",
    "x=time_unvectorized/time_vectorized\n",
    "# Print the time for each and the speed increase\n",
    "print('Time [sec] (unvectorized): ',time_unvectorized)\n",
    "print('Time [sec] (vectorized): ',time_vectorized)\n",
    "x=round(time_unvectorized/time_vectorized,0)\n",
    "print('The vectorized code is %.0f times faster than the vectorized code' %(x))\n"
   ]
  },
  {
   "cell_type": "markdown",
   "metadata": {},
   "source": [
    "(b)"
   ]
  },
  {
   "cell_type": "code",
   "execution_count": 21,
   "metadata": {
    "collapsed": false
   },
   "outputs": [
    {
     "data": {
      "image/png": "[encoded data removed]",
      "text/plain": [
       "<matplotlib.figure.Figure at 0x1141564a8>"
      ]
     },
     "metadata": {},
     "output_type": "display_data"
    }
   ],
   "source": [
    "# Plot the result\n",
    "import matplotlib.pyplot as plt\n",
    "%matplotlib inline\n",
    "\n",
    "plot1 = plt.imshow(res, extent=(-4,4,-4,4), cmap='RdBu')\n",
    "plt.xlabel('x')\n",
    "plt.ylabel('y')\n",
    "color_bar_max = max([res.max(), abs(res.min())])\n",
    "plt.gcf().colorbar(plot1, label='$f(x,y)$')\n",
    "plt.title('$f(x,y) = x^2 - 2 * y^2$')\n",
    "plt.show()"
   ]
  },
  {
   "cell_type": "code",
   "execution_count": 22,
   "metadata": {},
   "outputs": [
    {
     "data": {
      "image/png": "[encoded data removed]",
      "text/plain": [
       "<matplotlib.figure.Figure at 0x113dbc5c0>"
      ]
     },
     "metadata": {},
     "output_type": "display_data"
    }
   ],
   "source": [
    "# Plot the thresholded output f(x,y) > 0\n",
    "plot2 = plt.imshow(compare, extent=(-4,4,-4,4), cmap='gray')\n",
    "plt.xlabel('x')\n",
    "plt.ylabel('y')\n",
    "plt.title('$f(x,y) > 0$')\n",
    "plt.gcf().colorbar(plot2, label='$f(x,y) > 0$')\n",
    "plt.show()"
   ]
  },
  {
   "cell_type": "markdown",
   "metadata": {},
   "source": [
    "## 9\n",
    "This exercise will walk through some basic numerical programming exercises.\n",
    "1. Synthesize $n=10^4$ normally distributed data points with mean $\\mu=2$ and a standard deviation of $\\sigma=1$. Call these observations from a random variable $X$, and call the vector of observations that you generate, $\\textbf{x}$.\n",
    "2. Calculate the mean and standard deviation of $\\textbf{x}$ to validate (1) and provide the result to a precision of four significant figures.\n",
    "3. Plot a histogram of the data in $\\textbf{x}$ with 30 bins\n",
    "4. What is the 90th percentile of $\\textbf{x}$? The 90th percentile is the value below which 90% of observations can be found.\n",
    "5. What is the 99th percentile of $\\textbf{x}$?\n",
    "6. Now synthesize $n=10^4$ normally distributed data points with mean $\\mu=0$ and a standard deviation of $\\sigma=3$. Call these observations from a random variable $Y$, and call the vector of observations that you generate, $\\textbf{y}$.\n",
    "7. Plot the histogram of the data in $\\textbf{y}$ on a (new) plot with the histogram of $\\textbf{x}$, so that both histograms can be seen and compared.\n",
    "8. Using the observations from $\\textbf{x}$ and $\\textbf{y}$, estimate $E[XY]$"
   ]
  },
  {
   "cell_type": "markdown",
   "metadata": {},
   "source": [
    "**ANSWER**"
   ]
  },
  {
   "cell_type": "code",
   "execution_count": 23,
   "metadata": {
    "collapsed": false
   },
   "outputs": [
    {
     "name": "stdout",
     "output_type": "stream",
     "text": [
      "2. sample mean is 1.9952\n",
      "sample standard deviation is 1.0009\n"
     ]
    },
    {
     "data": {
      "text/plain": [
       "<matplotlib.text.Text at 0x1140375f8>"
      ]
     },
     "execution_count": 23,
     "metadata": {},
     "output_type": "execute_result"
    },
    {
     "data": {
      "image/png": "[encoded data removed]",
      "text/plain": [
       "<matplotlib.figure.Figure at 0x113da5898>"
      ]
     },
     "metadata": {},
     "output_type": "display_data"
    }
   ],
   "source": [
    "# 1\n",
    "import random\n",
    "random.seed(1)\n",
    "x=np.random.normal(size=10000,loc=2,scale=1)\n",
    "x\n",
    "\n",
    "# 2\n",
    "sample_avg=np.mean(x)\n",
    "sample_sd=np.std(x)\n",
    "print('2. sample mean is %.4f' %sample_avg)\n",
    "print('sample standard deviation is %.4f' %sample_sd)\n",
    "\n",
    "\n",
    "# 3\n",
    "plt.hist(x, bins=30,alpha=0.75)\n",
    "plt.title('Histogram of x')\n",
    "plt.xlabel('x')\n",
    "plt.ylabel('Number of Samples')\n"
   ]
  },
  {
   "cell_type": "code",
   "execution_count": 24,
   "metadata": {},
   "outputs": [
    {
     "name": "stdout",
     "output_type": "stream",
     "text": [
      "4. 90th percentile 3.2746\n",
      "5. 90th percentile 4.2774\n"
     ]
    },
    {
     "data": {
      "image/png": "[encoded data removed]",
      "text/plain": [
       "<matplotlib.figure.Figure at 0x112b1a978>"
      ]
     },
     "metadata": {},
     "output_type": "display_data"
    },
    {
     "name": "stdout",
     "output_type": "stream",
     "text": [
      "8. As x and y are independent, E[XY]=-0.0242\n"
     ]
    }
   ],
   "source": [
    "# 4\n",
    "p90 = np.percentile(x,90)\n",
    "print('4. 90th percentile %.4f'%p90)\n",
    "\n",
    "# 5\n",
    "p99=np.percentile(x,99)\n",
    "print('5. 90th percentile %.4f'%p99)\n",
    "\n",
    "# 6\n",
    "random.seed(1)\n",
    "y=np.random.normal(size=10000,loc=0,scale=3)\n",
    "\n",
    "# 7\n",
    "plt.hist(x, bins=30,alpha=0.75,label='x')\n",
    "plt.hist(y, bins=30,alpha=0.75,label='y')\n",
    "plt.legend(loc='upper left')\n",
    "plt.xlabel('values')\n",
    "plt.ylabel('Number of Samples')\n",
    "plt.title('Histogram of x and y')\n",
    "plt.show()\n",
    "\n",
    "# 8\n",
    "E_xy=np.mean(x)*np.mean(y)\n",
    "print('8. As x and y are independent, E[XY]=%.4f' %E_xy)"
   ]
  },
  {
   "cell_type": "markdown",
   "metadata": {},
   "source": [
    "## 10\n",
    "Estimate the integral of the function $f(x)$ on the interval $0\\leq x < 2.5$ assuming we only know the following points from $f$:\n",
    "\n",
    "*Table 1. Dataset containing n=5 observations*\n",
    "\n",
    "| $x_i$ | 0.0 | 0.5 | 1.0 | 1.5 | 2.0 |\n",
    "|-|-|-|-|-|-|\n",
    "| $y_i$ | 6 | 7 | 8 | 4 | 1 |\n"
   ]
  },
  {
   "cell_type": "markdown",
   "metadata": {},
   "source": [
    "**ANSWER**\n",
    "\n"
   ]
  },
  {
   "cell_type": "markdown",
   "metadata": {},
   "source": [
    "Using the simplest approximation, it integrates to 11.25 on [0,2.5)"
   ]
  },
  {
   "cell_type": "code",
   "execution_count": 25,
   "metadata": {
    "collapsed": false
   },
   "outputs": [
    {
     "name": "stdout",
     "output_type": "stream",
     "text": [
      "The integral of y is: 11.25\n"
     ]
    }
   ],
   "source": [
    "x=np.array([0.0, 0.5,1.0,1.5,2.0])\n",
    "y=np.array([6,7,8,4,1])\n",
    "y_dif = (y[:-1] + y[1:]) / 2\n",
    "dx = x[1:] - x[:-1]\n",
    "int_y = np.sum(y_dif * dx )\n",
    "\n",
    "print('The integral of y is: {:.4}'.format(int_y))"
   ]
  },
  {
   "cell_type": "markdown",
   "metadata": {},
   "source": [
    "# Version Control via Git"
   ]
  },
  {
   "cell_type": "markdown",
   "metadata": {},
   "source": [
    "## 11\n",
    "Complete the [Atlassian Git tutorial](https://www.atlassian.com/git/tutorials/what-is-version-control), specifically the following sections. Try each concept that's presented. For this tutorial, instead of using BitBucket, use Github. Create a github account here if you don't already have one: https://github.com/\n",
    "1. [What is version control](https://www.atlassian.com/git/tutorials/what-is-version-control)\n",
    "2. [What is Git](https://www.atlassian.com/git/tutorials/what-is-git)\n",
    "3. [Install Git](https://www.atlassian.com/git/tutorials/install-git)\n",
    "4. [Setting up a repository](https://www.atlassian.com/git/tutorials/install-git)\n",
    "5. [Saving changes](https://www.atlassian.com/git/tutorials/saving-changes)\n",
    "6. [Inspecting a repository](https://www.atlassian.com/git/tutorials/inspecting-a-repository)\n",
    "7. [Undoing changes](https://www.atlassian.com/git/tutorials/undoing-changes)\n",
    "8. [Rewriting history](https://www.atlassian.com/git/tutorials/rewriting-history)\n",
    "9. [Syncing](https://www.atlassian.com/git/tutorials/syncing)\n",
    "10. [Making a pull request](https://www.atlassian.com/git/tutorials/making-a-pull-request)\n",
    "11. [Using branches](https://www.atlassian.com/git/tutorials/using-branches)\n",
    "12. [Comparing workflows](https://www.atlassian.com/git/tutorials/comparing-workflows)\n",
    "\n",
    "For your answer, affirm that you either completed the tutorial or have previous experience with all of the concepts above. Do this by typing your name below and selecting the situation that applies from the two options in brackets."
   ]
  },
  {
   "cell_type": "markdown",
   "metadata": {},
   "source": [
    "**ANSWER**\n",
    "\n",
    "*I, Hannah Yan, affirm that I have I have previous experience that covers all the content in this tutorial*"
   ]
  },
  {
   "cell_type": "markdown",
   "metadata": {},
   "source": [
    "## 12\n",
    "Using Github to create a static HTML website:\n",
    "1. Create a branch in your `machine-learning-course` repo called \"gh-pages\" and checkout that branch (this will provide an example of how to create a simple static website using [Github Pages](https://pages.github.com/))\n",
    "2. Create a file called \"index.html\" with the contents \"Hello World\" and add, commit, and push it to that branch.\n",
    "3. Submit the following: (a) a link to your github repository and (b) a link to your new \"Hello World\" website. The latter should be at the address https://[USERNAME].github.io/ECE590-assignment0 (where [USERNAME] is your github username)."
   ]
  },
  {
   "cell_type": "markdown",
   "metadata": {},
   "source": [
    "**ANSWER**  \n",
    "https://github.com/yanhann10/machine-learning-course  \n",
    "https://yanhann10.github.io/machine-learning-course/"
   ]
  },
  {
   "cell_type": "markdown",
   "metadata": {},
   "source": [
    "# Exploratory Data Analysis\n",
    "## 13\n",
    "Here you'll bring together some of the individual skills that you demonstrated above and create a Jupyter notebook based blog post on data analysis.\n",
    "\n",
    "1. Find a dataset that interests you and relates to a question or problem that you find intriguing\n",
    "2. Using a Jupyter notebook, describe the dataset, the source of the data, and the reason the dataset was of interest.\n",
    "3. Check the data and see if they need to be cleaned: are there missing values? Are there clearly erroneous values? Do two tables need to be merged together? Clean the data so it can be visualized.\n",
    "3. Plot the data, demonstrating interesting features that you discover. Are there any relationships between variables that were surprising or patterns that emerged? Please exercise creativity and curiosity in your plots.\n",
    "4. What insights are you able to take away from exploring the data? Is there a reason why analyzing the dataset you chose is particularly interesting or important? Summarize this as if your target audience was the readership of a major news organization - boil down your findings in a way that is accessible, but still accurate.\n",
    "5. Create a public repository on your github account titled \"machine-learning-course\". In it, create a readme file that contains the heading \"ECE590: Introductory Machine Learning for Data Science\". Add, commit, and push that Jupyter notebook to the master branch. Provide the link to the that post here."
   ]
  },
  {
   "cell_type": "markdown",
   "metadata": {},
   "source": [
    "**ANSWER**  \n",
    "Link to the rendered notebook  on [nbviewer] (https://nbviewer.jupyter.org/github/yanhann10/machine-learning-course/blob/master/explorations/Dual_citizenship.ipynb) \n",
    "Link to ipynb, with data, codebook and shapefiles in explorations folder\n",
    "https://github.com/yanhann10/machine-learning-course/blob/master/explorations/Dual_citizenship.ipynb\n",
    "If any issue with options above, please refer to the print out attached."
   ]
  }
 ],
 "metadata": {
  "kernelspec": {
   "display_name": "Python 3",
   "language": "python",
   "name": "python3"
  },
  "language_info": {
   "codemirror_mode": {
    "name": "ipython",
    "version": 3
   },
   "file_extension": ".py",
   "mimetype": "text/x-python",
   "name": "python",
   "nbconvert_exporter": "python",
   "pygments_lexer": "ipython3",
   "version": "3.6.0"
  }
 },
 "nbformat": 4,
 "nbformat_minor": 2
}
